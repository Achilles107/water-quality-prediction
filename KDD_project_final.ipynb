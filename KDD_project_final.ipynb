{
 "cells": [
  {
   "cell_type": "markdown",
   "metadata": {},
   "source": [
    "## Water Quality Prediction\n",
    "\n",
    "### Participants\n",
    "#### Abhinav Rakesh Kumar Shukla (20015525)\n",
    "#### Rohit Saji ()\n",
    "#### Sidharth Suhas Dalvi ()\n",
    "#### Venu Prasath Mohan (20015850)"
   ]
  },
  {
   "cell_type": "markdown",
   "metadata": {},
   "source": [
    "## Importing required libraries"
   ]
  },
  {
   "cell_type": "code",
   "execution_count": null,
   "metadata": {
    "id": "6IETSNf6oz1I"
   },
   "outputs": [],
   "source": [
    "import pandas as pd\n",
    "import numpy as np\n",
    "import matplotlib.pyplot as plt\n",
    "from sklearn.neighbors import KNeighborsClassifier\n",
    "from sklearn import metrics\n",
    "from sklearn.ensemble import RandomForestClassifier\n",
    "from sklearn.preprocessing import StandardScaler, MinMaxScaler\n",
    "from sklearn.svm import SVC\n",
    "from sklearn.model_selection import train_test_split, GridSearchCV\n",
    "from sklearn.metrics import accuracy_score, classification_report\n",
    "from sklearn.ensemble import AdaBoostClassifier\n",
    "from imblearn.over_sampling import SMOTE\n",
    "import seaborn as sn\n",
    "from sklearn import tree\n",
    "from sklearn.ensemble import RandomForestClassifier\n",
    "from sklearn.ensemble import BaggingClassifier\n",
    "from sklearn.linear_model import LogisticRegression\n",
    "from sklearn.ensemble import GradientBoostingClassifier\n",
    "from sklearn.neural_network import MLPClassifier\n",
    "import warnings\n",
    "warnings.filterwarnings(\"ignore\")\n"
   ]
  },
  {
   "cell_type": "markdown",
   "metadata": {
    "jp-MarkdownHeadingCollapsed": true,
    "tags": []
   },
   "source": [
    "## Elementary Data Analysis"
   ]
  },
  {
   "cell_type": "code",
   "execution_count": null,
   "metadata": {
    "id": "5_6i391xpJ3v"
   },
   "outputs": [],
   "source": [
    "water_quality_data = pd.read_csv('waterQuality1.csv', na_values='#NUM!')"
   ]
  },
  {
   "cell_type": "code",
   "execution_count": null,
   "metadata": {
    "colab": {
     "base_uri": "https://localhost:8080/",
     "height": 487
    },
    "id": "kXvh0o5zpQi_",
    "outputId": "5d8a2662-b7fc-4b52-868b-b7c7c04de2c5"
   },
   "outputs": [],
   "source": [
    "water_quality_data"
   ]
  },
  {
   "cell_type": "code",
   "execution_count": null,
   "metadata": {
    "colab": {
     "base_uri": "https://localhost:8080/"
    },
    "id": "WmD89UjCpSF8",
    "outputId": "0dffe636-e2d1-4ffc-b090-cb07bbabe433"
   },
   "outputs": [],
   "source": [
    "print('Total number of samples: ', len(water_quality_data))"
   ]
  },
  {
   "cell_type": "code",
   "execution_count": null,
   "metadata": {
    "colab": {
     "base_uri": "https://localhost:8080/"
    },
    "id": "1MArHW09pb_q",
    "outputId": "e1c8a5a3-5d42-4642-c63a-58048e7c22b7"
   },
   "outputs": [],
   "source": [
    "print('Number of features: ', len(water_quality_data.columns)-1)"
   ]
  },
  {
   "cell_type": "code",
   "execution_count": null,
   "metadata": {
    "colab": {
     "base_uri": "https://localhost:8080/"
    },
    "id": "FwTrDSrPpikh",
    "outputId": "20f783c8-ef97-4f47-b432-e89eafc7abf2"
   },
   "outputs": [],
   "source": [
    "water_quality_data.isna().any()"
   ]
  },
  {
   "cell_type": "code",
   "execution_count": null,
   "metadata": {
    "colab": {
     "base_uri": "https://localhost:8080/",
     "height": 520
    },
    "id": "7YwDH2RbAp2Z",
    "outputId": "938745d1-6dd7-439c-f531-ba5bfe7223f5"
   },
   "outputs": [],
   "source": [
    "sn.heatmap(water_quality_data.isna(), cmap='coolwarm')"
   ]
  },
  {
   "cell_type": "code",
   "execution_count": null,
   "metadata": {
    "id": "ioGr2dmmuHH2"
   },
   "outputs": [],
   "source": [
    "water_quality_data.dropna(inplace=True)"
   ]
  },
  {
   "cell_type": "code",
   "execution_count": null,
   "metadata": {
    "colab": {
     "base_uri": "https://localhost:8080/"
    },
    "id": "x2I7J8Nqruup",
    "outputId": "b389192c-f050-4681-8afd-b51e4639e6d9"
   },
   "outputs": [],
   "source": [
    "print('Total number of samples after dropping NaN values: ', len(water_quality_data))\n"
   ]
  },
  {
   "cell_type": "code",
   "execution_count": null,
   "metadata": {
    "colab": {
     "base_uri": "https://localhost:8080/",
     "height": 393
    },
    "id": "qAe9ur280vhE",
    "outputId": "81e91bd3-d207-4e93-9d30-5d6efb270ef3"
   },
   "outputs": [],
   "source": [
    "water_quality_data.describe()"
   ]
  },
  {
   "cell_type": "markdown",
   "metadata": {
    "id": "30xNBacm7ore",
    "jp-MarkdownHeadingCollapsed": true,
    "tags": []
   },
   "source": [
    "### Distribution of features"
   ]
  },
  {
   "cell_type": "code",
   "execution_count": null,
   "metadata": {
    "colab": {
     "base_uri": "https://localhost:8080/",
     "height": 1000
    },
    "id": "ekOjoie-u65O",
    "outputId": "59bd98bf-5fd9-4f9f-fc29-ac200d4e8432"
   },
   "outputs": [],
   "source": [
    "plt.figure(figsize=(15,15))\n",
    "columns = list(water_quality_data.columns[:-1])\n",
    "for i in range(0, len(columns)):\n",
    "  plt.subplot(5,4,i+1)\n",
    "  plt.boxplot(water_quality_data[columns[i]])\n",
    "  plt.title(columns[i])\n",
    "plt.show()"
   ]
  },
  {
   "cell_type": "markdown",
   "metadata": {
    "id": "RdcE1j5E7uVS",
    "jp-MarkdownHeadingCollapsed": true,
    "tags": []
   },
   "source": [
    "### Distribution of Labels"
   ]
  },
  {
   "cell_type": "code",
   "execution_count": null,
   "metadata": {
    "colab": {
     "base_uri": "https://localhost:8080/",
     "height": 452
    },
    "id": "GmQdrW_S7x9r",
    "outputId": "744c0fde-098c-4a3f-c2fa-7fbf8ad60b82"
   },
   "outputs": [],
   "source": [
    "water_quality_data['is_safe'] = water_quality_data['is_safe'].astype('int64')\n",
    "unique_labels = water_quality_data['is_safe'].value_counts()\n",
    "\n",
    "plt.bar(list(unique_labels.index), unique_labels.values)\n",
    "plt.title('Distribution of labels')\n",
    "plt.show()"
   ]
  },
  {
   "cell_type": "code",
   "execution_count": null,
   "metadata": {
    "colab": {
     "base_uri": "https://localhost:8080/",
     "height": 758
    },
    "id": "O6fxgo0hEz_X",
    "outputId": "3745efef-8fa3-4b8f-8b87-3304d62a5604"
   },
   "outputs": [],
   "source": [
    "sn.pairplot(data=water_quality_data, vars=columns[:3], hue='is_safe')\n",
    "plt.show()"
   ]
  },
  {
   "cell_type": "code",
   "execution_count": null,
   "metadata": {
    "colab": {
     "base_uri": "https://localhost:8080/"
    },
    "id": "01C0XUIc8uvN",
    "outputId": "8fc51fee-834f-43d9-e5ce-1c45a0f46c6c"
   },
   "outputs": [],
   "source": [
    "unique_labels.index"
   ]
  },
  {
   "cell_type": "markdown",
   "metadata": {
    "id": "rfQJeyUdyGxG",
    "jp-MarkdownHeadingCollapsed": true,
    "tags": []
   },
   "source": [
    "### Normalization\n",
    "\n",
    "1. MinMax Normalization\n",
    "2. Z-Score"
   ]
  },
  {
   "cell_type": "code",
   "execution_count": null,
   "metadata": {
    "id": "Ud54wLwMuvDH"
   },
   "outputs": [],
   "source": [
    "# Min Max Norm\n",
    "min_max = MinMaxScaler()\n",
    "water_quality_data_mm = water_quality_data.copy()\n",
    "water_quality_data_mm[columns] = min_max.fit_transform(water_quality_data_mm[columns])"
   ]
  },
  {
   "cell_type": "code",
   "execution_count": null,
   "metadata": {
    "colab": {
     "base_uri": "https://localhost:8080/",
     "height": 696
    },
    "id": "ukFeV-PYyvqI",
    "outputId": "5445b81c-f5a8-43f9-af88-919ab6ff1d56"
   },
   "outputs": [],
   "source": [
    "plt.figure(figsize=(8,8))\n",
    "for cols in water_quality_data_mm.columns[:-1]:\n",
    "  sn.kdeplot(water_quality_data_mm[cols])\n",
    "  plt.legend(water_quality_data_mm.columns)\n",
    "  plt.xlabel('Values')\n",
    "plt.show()"
   ]
  },
  {
   "cell_type": "code",
   "execution_count": null,
   "metadata": {
    "id": "Hej-5zrmz-T6"
   },
   "outputs": [],
   "source": [
    "# Z-Score Norm\n",
    "z_score = StandardScaler()\n",
    "water_quality_data_z = water_quality_data.copy()\n",
    "water_quality_data_z[columns] = z_score.fit_transform(water_quality_data_z[columns]) "
   ]
  },
  {
   "cell_type": "code",
   "execution_count": null,
   "metadata": {
    "colab": {
     "base_uri": "https://localhost:8080/",
     "height": 696
    },
    "id": "awfC7g2W0Tty",
    "outputId": "e978e12e-4773-42bc-c76c-1e6e0af50f63"
   },
   "outputs": [],
   "source": [
    "plt.figure(figsize=(8,8))\n",
    "for cols in water_quality_data_z.columns[:-1]:\n",
    "  sn.kdeplot(water_quality_data_z[cols])\n",
    "  plt.legend(water_quality_data_z.columns)\n",
    "  plt.xlabel('Values')\n",
    "plt.show()"
   ]
  },
  {
   "cell_type": "markdown",
   "metadata": {
    "id": "ROHiyIST4KRs",
    "jp-MarkdownHeadingCollapsed": true,
    "tags": []
   },
   "source": [
    "# Model\n",
    "\n",
    "1. SVM\n",
    "      - SVM with MinMax Norm\n",
    "      - SVM with Z-Score\n",
    "\n",
    "2. Adaboost\n",
    "      - Adaboost with MinMax Norm\n",
    "      - Adaboost with Z-Score\n",
    "\n",
    "3. KNN\n",
    "      - KNN with MinMax Norm\n",
    "      - KNN with Z-Score\n",
    "\n",
    "4. Random forest with gridsearch CV\n",
    "      - Random forest with gridsearch CV with MinMax Norm\n",
    "      - \n",
    "5. Decision Tree\n",
    "    - Decision Tree with MinMax Norm\n",
    "    - Decision Tree with Z-Score\n",
    "6. Bagging along with Random Forest\n",
    "    - Bagging along with Random Forest with MinMax Norm\n",
    "    - Bagging along with Random Forest with Z-Score\n",
    "7. Logistic Regression\n",
    "    - Logistic Regression with MinMax Norm\n",
    "    - Logistic Regression with Z-Score\n",
    "    - Logistic Regression with Grid Search CV\n",
    "    - Weighted Logistic Regression\n",
    "8. Gradient Boosting\n",
    "    - Gradient Boosting with MinMax Norm\n",
    "    - Gradient Boosting with Z-Score\n",
    "    - Gradient Boosting with Grid Search CV\n"
   ]
  },
  {
   "cell_type": "markdown",
   "metadata": {
    "id": "Z1crMI0I8Oeg",
    "jp-MarkdownHeadingCollapsed": true,
    "tags": []
   },
   "source": [
    "### Defining Metrics Calculation / Splitting Data"
   ]
  },
  {
   "cell_type": "code",
   "execution_count": null,
   "metadata": {
    "id": "VnhLiNnY5Olo"
   },
   "outputs": [],
   "source": [
    "# Function to split data\n",
    "\n",
    "def split_data(data, columns):\n",
    "  features = data[columns]\n",
    "  labels = data['is_safe']\n",
    "  X_train, X_test, y_train, y_test = train_test_split(features, labels, random_state=42, test_size=0.3)\n",
    "  return X_train, X_test, y_train, y_test"
   ]
  },
  {
   "cell_type": "code",
   "execution_count": null,
   "metadata": {
    "id": "432Ed5mB8Oeg"
   },
   "outputs": [],
   "source": [
    "def print_metrics(model_name, scaler, y_test, y_pred):\n",
    "    accuracy = accuracy_score(y_test, y_pred)\n",
    "    print(\"Accuracy of {} with {}: {} ({:.2%})\".format(model_name, scaler, accuracy, accuracy))\n",
    "    print()\n",
    "    print(\"Error rate: {} ({:.2%})\".format(1-accuracy, 1-accuracy))\n",
    "    print()\n",
    "    print(classification_report(y_test, y_pred))\n",
    "    print_confusion_matrix(y_test, y_pred)\n",
    "    roc_cur(y_test, y_pred)"
   ]
  },
  {
   "cell_type": "code",
   "execution_count": null,
   "metadata": {
    "id": "cGkA0CLj8Oeh"
   },
   "outputs": [],
   "source": [
    "def print_confusion_matrix(y_test, y_pred):\n",
    "    confusion_matrix = metrics.confusion_matrix(y_test, y_pred)\n",
    "    sn.heatmap(confusion_matrix, annot=True, cmap='Blues', fmt='g')\n",
    "    plt.xlabel('Predicted')\n",
    "    plt.ylabel('Actual')\n",
    "    plt.title('Confusion Matrix')\n",
    "    plt.show()"
   ]
  },
  {
   "cell_type": "code",
   "execution_count": null,
   "metadata": {
    "id": "cjVAyWCY8Oeh"
   },
   "outputs": [],
   "source": [
    "def roc_cur(y_test, y_pred):\n",
    "  fp, tp, thresh = metrics.roc_curve(y_test, y_pred)\n",
    "  curve = metrics.auc(fp, tp)\n",
    "  plt.plot(fp, tp)\n",
    "  plt.plot([0,1], [1,0], 'k--')\n",
    "  plt.xlabel('False Postive')\n",
    "  plt.ylabel('True Postive')\n",
    "  plt.legend(loc='lower right')"
   ]
  },
  {
   "cell_type": "markdown",
   "metadata": {
    "id": "xbL34LUc-GaB",
    "jp-MarkdownHeadingCollapsed": true,
    "tags": []
   },
   "source": [
    "## Support Vector Machine (SVM)"
   ]
  },
  {
   "cell_type": "markdown",
   "metadata": {
    "id": "JTw5PQqU-J10",
    "jp-MarkdownHeadingCollapsed": true,
    "tags": []
   },
   "source": [
    "### SVM with MinMax Norm"
   ]
  },
  {
   "cell_type": "code",
   "execution_count": null,
   "metadata": {
    "id": "ANOlTOy80V2h"
   },
   "outputs": [],
   "source": [
    "# SVM Classifier with MinMax \n",
    "svm = SVC(kernel='rbf')"
   ]
  },
  {
   "cell_type": "code",
   "execution_count": null,
   "metadata": {
    "id": "im54A8RS6gBf"
   },
   "outputs": [],
   "source": [
    "X_train, X_test, y_train, y_test = split_data(water_quality_data_mm, columns)"
   ]
  },
  {
   "cell_type": "code",
   "execution_count": null,
   "metadata": {
    "colab": {
     "base_uri": "https://localhost:8080/",
     "height": 74
    },
    "id": "AcBXYZTc6pSg",
    "outputId": "1d32a96a-65de-400e-ddeb-c54955fa68f6"
   },
   "outputs": [],
   "source": [
    "svm.fit(X_train, y_train)"
   ]
  },
  {
   "cell_type": "code",
   "execution_count": null,
   "metadata": {
    "id": "PuSvvg5S6usb"
   },
   "outputs": [],
   "source": [
    "y_pred = svm.predict(X_test)"
   ]
  },
  {
   "cell_type": "code",
   "execution_count": null,
   "metadata": {
    "colab": {
     "base_uri": "https://localhost:8080/",
     "height": 1000
    },
    "id": "xfR-nqMN61Rc",
    "outputId": "ad6dc2d7-3bdc-4b6c-88b8-c7a7419525d6"
   },
   "outputs": [],
   "source": [
    "print_metrics(\"SVM\", \"MinMax normalization\", y_test, y_pred)"
   ]
  },
  {
   "cell_type": "markdown",
   "metadata": {
    "id": "-oPdQVy6-MrD",
    "jp-MarkdownHeadingCollapsed": true,
    "tags": []
   },
   "source": [
    "### SVM with Z-Score"
   ]
  },
  {
   "cell_type": "code",
   "execution_count": null,
   "metadata": {
    "id": "08EJ3Kq-7cxD"
   },
   "outputs": [],
   "source": [
    "# SVM Classifier with Z-score\n",
    "svm = SVC(kernel='rbf')"
   ]
  },
  {
   "cell_type": "code",
   "execution_count": null,
   "metadata": {
    "id": "YFJQC_lD9vvf"
   },
   "outputs": [],
   "source": [
    "X_train, X_test, y_train, y_test = split_data(water_quality_data_z, columns)"
   ]
  },
  {
   "cell_type": "code",
   "execution_count": null,
   "metadata": {
    "colab": {
     "base_uri": "https://localhost:8080/",
     "height": 74
    },
    "id": "Fn8h9hmb9yJb",
    "outputId": "b7bba2cb-00fe-4f7b-8654-1fcf38ef4737"
   },
   "outputs": [],
   "source": [
    "svm.fit(X_train, y_train)"
   ]
  },
  {
   "cell_type": "code",
   "execution_count": null,
   "metadata": {
    "id": "UjrEPedE91oE"
   },
   "outputs": [],
   "source": [
    "y_pred_2 = svm.predict(X_test)"
   ]
  },
  {
   "cell_type": "code",
   "execution_count": null,
   "metadata": {
    "colab": {
     "base_uri": "https://localhost:8080/",
     "height": 1000
    },
    "id": "1coJweVW99A0",
    "outputId": "84a2deb4-20d6-4417-cffa-ea1ef273503f"
   },
   "outputs": [],
   "source": [
    "print_metrics(\"SVM\", \"Z-Score normalization\", y_test, y_pred_2)"
   ]
  },
  {
   "cell_type": "markdown",
   "metadata": {
    "id": "t7EoPzuo8Oej",
    "jp-MarkdownHeadingCollapsed": true,
    "tags": []
   },
   "source": [
    "### SVM with Grid Search CV"
   ]
  },
  {
   "cell_type": "code",
   "execution_count": null,
   "metadata": {
    "colab": {
     "base_uri": "https://localhost:8080/",
     "height": 117
    },
    "id": "Plo0LleEC4Af",
    "outputId": "3f364440-dc54-4817-bf6c-e37424549549"
   },
   "outputs": [],
   "source": [
    "parameters = {'C': [0.1, 1, 10], 'gamma': ['scale', 'auto'], 'kernel': ['linear', 'rbf', 'sigmoid']}\n",
    "\n",
    "svm = SVC(kernel='rbf')\n",
    "grid_svm = GridSearchCV(svm, param_grid=parameters)\n",
    "grid_svm.fit(X_train, y_train)"
   ]
  },
  {
   "cell_type": "code",
   "execution_count": null,
   "metadata": {
    "colab": {
     "base_uri": "https://localhost:8080/"
    },
    "id": "ie2jEwvqEFjm",
    "outputId": "c3bb10a5-58af-47f7-aafb-24badb5d4c97"
   },
   "outputs": [],
   "source": [
    "print('Best Parameters: ', grid_svm.best_params_)\n",
    "best_param = grid_svm.best_params_"
   ]
  },
  {
   "cell_type": "code",
   "execution_count": null,
   "metadata": {
    "colab": {
     "base_uri": "https://localhost:8080/",
     "height": 1000
    },
    "id": "1uA44oazEY2R",
    "outputId": "7fc7049a-5005-476d-f306-f04c02817208"
   },
   "outputs": [],
   "source": [
    "# Predicting on testing data with new hyperparams\n",
    "svm = SVC(kernel=best_param['kernel'], C=best_param['C'], gamma=best_param['gamma'])\n",
    "svm.fit(X_train, y_train)\n",
    "y_pred_5 = svm.predict(X_test)\n",
    "print_metrics(\"SVM\", \"GridSearchCV\", y_test, y_pred_5)"
   ]
  },
  {
   "cell_type": "markdown",
   "metadata": {
    "id": "ggxpt27S-QFc",
    "jp-MarkdownHeadingCollapsed": true,
    "tags": []
   },
   "source": [
    "## Adaboost"
   ]
  },
  {
   "cell_type": "markdown",
   "metadata": {
    "id": "jk_uETcY-SdG",
    "jp-MarkdownHeadingCollapsed": true,
    "tags": []
   },
   "source": [
    "### Adaboost with MinMax Norm"
   ]
  },
  {
   "cell_type": "code",
   "execution_count": null,
   "metadata": {
    "id": "ItLh4Mr6-AHF"
   },
   "outputs": [],
   "source": [
    "adaboost = AdaBoostClassifier(n_estimators=150, random_state=42)"
   ]
  },
  {
   "cell_type": "code",
   "execution_count": null,
   "metadata": {
    "id": "vUw8J2M5AxTE"
   },
   "outputs": [],
   "source": [
    "X_train, X_test, y_train, y_test = split_data(water_quality_data_mm, columns)"
   ]
  },
  {
   "cell_type": "code",
   "execution_count": null,
   "metadata": {
    "colab": {
     "base_uri": "https://localhost:8080/",
     "height": 74
    },
    "id": "IAuV--dIA2-6",
    "outputId": "b71d997c-6f89-4142-aabd-46ce8e08cca2"
   },
   "outputs": [],
   "source": [
    "adaboost.fit(X_train, y_train)"
   ]
  },
  {
   "cell_type": "code",
   "execution_count": null,
   "metadata": {
    "id": "0GGBQZw6A7HF"
   },
   "outputs": [],
   "source": [
    "y_pred_3 = adaboost.predict(X_test)"
   ]
  },
  {
   "cell_type": "code",
   "execution_count": null,
   "metadata": {
    "colab": {
     "base_uri": "https://localhost:8080/",
     "height": 1000
    },
    "id": "FsWv8ifnBBIV",
    "outputId": "126f8f44-7aae-4f31-c298-d0f0cfbebc95"
   },
   "outputs": [],
   "source": [
    "print_metrics(\"Adaboost\", \"MinMax normalization\", y_test, y_pred_3)"
   ]
  },
  {
   "cell_type": "markdown",
   "metadata": {
    "id": "rT4WMitfBfNV",
    "jp-MarkdownHeadingCollapsed": true,
    "tags": []
   },
   "source": [
    "### Adaboost with Z-Score"
   ]
  },
  {
   "cell_type": "code",
   "execution_count": null,
   "metadata": {
    "id": "PY_S9IOsBTev"
   },
   "outputs": [],
   "source": [
    "adaboost = AdaBoostClassifier(n_estimators=150, random_state=42)"
   ]
  },
  {
   "cell_type": "code",
   "execution_count": null,
   "metadata": {
    "id": "PikOZj6cBmgV"
   },
   "outputs": [],
   "source": [
    "X_train, X_test, y_train, y_test = split_data(water_quality_data_z, columns)"
   ]
  },
  {
   "cell_type": "code",
   "execution_count": null,
   "metadata": {
    "colab": {
     "base_uri": "https://localhost:8080/",
     "height": 74
    },
    "id": "B8w8g53rBo9Y",
    "outputId": "eadeea22-230d-4019-9a30-d2ca3ee06c03"
   },
   "outputs": [],
   "source": [
    "adaboost.fit(X_train, y_train)"
   ]
  },
  {
   "cell_type": "code",
   "execution_count": null,
   "metadata": {
    "id": "LEC9_gXqBqft"
   },
   "outputs": [],
   "source": [
    "y_pred_4 = adaboost.predict(X_test)"
   ]
  },
  {
   "cell_type": "code",
   "execution_count": null,
   "metadata": {
    "colab": {
     "base_uri": "https://localhost:8080/",
     "height": 1000
    },
    "id": "GYpUEl0CByei",
    "outputId": "aa192f20-2806-4d20-cd41-277f8927e482"
   },
   "outputs": [],
   "source": [
    "print_metrics(\"Adaboost\", \"Z-Score normalization\", y_test, y_pred_4)"
   ]
  },
  {
   "cell_type": "markdown",
   "metadata": {
    "id": "6d0A6PYuEvJs",
    "jp-MarkdownHeadingCollapsed": true,
    "tags": []
   },
   "source": [
    "## K-Nearest Neighbours (KNN)"
   ]
  },
  {
   "cell_type": "markdown",
   "metadata": {
    "id": "ZFh7vrQCEvJt",
    "tags": []
   },
   "source": [
    "### KNN with Minmax norm"
   ]
  },
  {
   "cell_type": "code",
   "execution_count": null,
   "metadata": {
    "colab": {
     "base_uri": "https://localhost:8080/",
     "height": 1000
    },
    "id": "6sOYPuahEvJt",
    "outputId": "a4ce9f0d-6c38-467a-9ee7-2476d823fd3a"
   },
   "outputs": [],
   "source": [
    "knn = KNeighborsClassifier(n_neighbors=3)\n",
    "X_train, X_test, y_train, y_test = split_data(water_quality_data_mm, columns)\n",
    "knn.fit(X_train, y_train)\n",
    "y_pred = knn.predict(X_test)\n",
    "accuracy = metrics.accuracy_score(y_test, y_pred)*100\n",
    "print_metrics(\"KNN\", \"MinMax normalization\", y_test, y_pred)"
   ]
  },
  {
   "cell_type": "markdown",
   "metadata": {
    "id": "KY3FdxrVEvJt",
    "tags": []
   },
   "source": [
    "### KNN with Z-score"
   ]
  },
  {
   "cell_type": "code",
   "execution_count": null,
   "metadata": {
    "colab": {
     "base_uri": "https://localhost:8080/",
     "height": 1000
    },
    "id": "K0Y5ynTTEvJt",
    "outputId": "1a83c24e-3c3b-4282-b788-2057de9b069d"
   },
   "outputs": [],
   "source": [
    "X_train, X_test, y_train, y_test = split_data(water_quality_data_z, columns)\n",
    "knn.fit(X_train, y_train)\n",
    "y_pred = knn.predict(X_test)\n",
    "accuracy = metrics.accuracy_score(y_test, y_pred)*100\n",
    "print_metrics(\"KNN\", \"Z-Score normalization\", y_test, y_pred)"
   ]
  },
  {
   "cell_type": "markdown",
   "metadata": {
    "id": "WW_adDEuEvJu",
    "jp-MarkdownHeadingCollapsed": true,
    "tags": []
   },
   "source": [
    "## Random forest with grid search CV"
   ]
  },
  {
   "cell_type": "markdown",
   "metadata": {
    "id": "5xoLZbdZEvJu",
    "jp-MarkdownHeadingCollapsed": true,
    "tags": []
   },
   "source": [
    "### with minmax norm"
   ]
  },
  {
   "cell_type": "code",
   "execution_count": null,
   "metadata": {
    "colab": {
     "base_uri": "https://localhost:8080/"
    },
    "id": "BcwSZqyNEvJu",
    "outputId": "49c805d5-44c5-467a-8f3b-c639aa4837b2"
   },
   "outputs": [],
   "source": [
    "X_train, X_test, y_train, y_test = split_data(water_quality_data_mm, columns)\n",
    "rf_model=RandomForestClassifier()\n",
    "rf_model.fit(X_train, y_train)"
   ]
  },
  {
   "cell_type": "code",
   "execution_count": null,
   "metadata": {
    "colab": {
     "base_uri": "https://localhost:8080/"
    },
    "id": "2olb9NOpEvJu",
    "outputId": "c6911a8d-7890-404d-fa28-ddf18bc51a1e"
   },
   "outputs": [],
   "source": [
    "n_estimators=[10, 17, 25, 33, 41, 48, 56, 64, 72, 80]\n",
    "max_features=['auto','sqrt']\n",
    "max_depth=[2,4,6]\n",
    "param_grid={\n",
    "    'n_estimators':n_estimators,\n",
    "    'max_features':max_features,\n",
    "    'max_depth':max_depth,\n",
    "}\n",
    "print(param_grid)\n",
    "rf_Grid=GridSearchCV(estimator= rf_model, param_grid=param_grid,cv=3,verbose=2,n_jobs=4)"
   ]
  },
  {
   "cell_type": "code",
   "execution_count": null,
   "metadata": {
    "colab": {
     "base_uri": "https://localhost:8080/",
     "height": 134
    },
    "id": "WEqZA-HvEvJv",
    "outputId": "c9b0e8e2-acb4-4d76-d71d-521aa1dd2779"
   },
   "outputs": [],
   "source": [
    "rf_Grid.fit(X_train,y_train)"
   ]
  },
  {
   "cell_type": "code",
   "execution_count": null,
   "metadata": {
    "colab": {
     "base_uri": "https://localhost:8080/"
    },
    "id": "pI6-XgEKEvJv",
    "outputId": "9dd541f8-1e1a-4f76-e987-8c675da5af75"
   },
   "outputs": [],
   "source": [
    "print('Best Parameters')\n",
    "print(rf_Grid.best_params_)"
   ]
  },
  {
   "cell_type": "code",
   "execution_count": null,
   "metadata": {
    "colab": {
     "base_uri": "https://localhost:8080/"
    },
    "id": "AiUUM-a4EvJv",
    "outputId": "b84a5310-47e5-42ff-ec76-cfbb94aac1ff"
   },
   "outputs": [],
   "source": [
    "y_pred_rf = rf_Grid.predict(X_test)\n",
    "print_metrics(\"Radom Forrest with Grid Search CV\", \"MinMax normalization\", y_test, y_pred_rf)"
   ]
  },
  {
   "cell_type": "markdown",
   "metadata": {
    "id": "qsEIUqaOEvJv",
    "jp-MarkdownHeadingCollapsed": true,
    "tags": []
   },
   "source": [
    "### with z-score"
   ]
  },
  {
   "cell_type": "code",
   "execution_count": null,
   "metadata": {
    "colab": {
     "base_uri": "https://localhost:8080/"
    },
    "id": "0IMmoC5XEvJv",
    "outputId": "c23e05af-9249-4a37-904d-9e60ba007597"
   },
   "outputs": [],
   "source": [
    "X_train, X_test, y_train, y_test = split_data(water_quality_data_z, columns)\n",
    "rf_model=RandomForestClassifier()\n",
    "rf_model.fit(X_train, y_train)"
   ]
  },
  {
   "cell_type": "code",
   "execution_count": null,
   "metadata": {
    "colab": {
     "base_uri": "https://localhost:8080/"
    },
    "id": "tSj-sknHEvJv",
    "outputId": "395190d3-d958-421f-b172-f7f707648c40"
   },
   "outputs": [],
   "source": [
    "n_estimators=[10, 17, 25, 33, 41, 48, 56, 64, 72, 80]\n",
    "max_features=['auto','sqrt']\n",
    "max_depth=[2,4,6]\n",
    "param_grid={\n",
    "    'n_estimators':n_estimators,\n",
    "    'max_features':max_features,\n",
    "    'max_depth':max_depth,\n",
    "}\n",
    "print(param_grid)\n",
    "rf_Grid=GridSearchCV(estimator= rf_model, param_grid=param_grid,cv=3,verbose=2,n_jobs=4)"
   ]
  },
  {
   "cell_type": "code",
   "execution_count": null,
   "metadata": {
    "colab": {
     "base_uri": "https://localhost:8080/",
     "height": 134
    },
    "id": "a1r8oiafEvJw",
    "outputId": "ae89929c-400d-4901-af3b-aef19b987e5f"
   },
   "outputs": [],
   "source": [
    "rf_Grid.fit(X_train,y_train)"
   ]
  },
  {
   "cell_type": "code",
   "execution_count": null,
   "metadata": {
    "colab": {
     "base_uri": "https://localhost:8080/"
    },
    "id": "rp8BWg_YEvJw",
    "outputId": "39c635e0-782d-4ecc-b8d4-3e0e46ce9a9e"
   },
   "outputs": [],
   "source": [
    "print('Best Parameters')\n",
    "print(rf_Grid.best_params_)"
   ]
  },
  {
   "cell_type": "code",
   "execution_count": null,
   "metadata": {
    "colab": {
     "base_uri": "https://localhost:8080/"
    },
    "id": "FI8h8DAkEvJw",
    "outputId": "c7883325-4684-4b4d-f8ed-74c0d513d17c"
   },
   "outputs": [],
   "source": [
    "y_pred_rf = rf_Grid.predict(X_test)\n",
    "print_metrics(\"Radom Forrest with Grid Search CV\", \"Z-Score normalization\", y_test, y_pred_rf)"
   ]
  },
  {
   "cell_type": "markdown",
   "metadata": {
    "id": "j7oOnA3eHUJO",
    "jp-MarkdownHeadingCollapsed": true,
    "tags": []
   },
   "source": [
    "### Decision tree with MinMax Norm"
   ]
  },
  {
   "cell_type": "code",
   "execution_count": null,
   "metadata": {
    "colab": {
     "base_uri": "https://localhost:8080/",
     "height": 1000
    },
    "id": "IkzvRVfrHU4s",
    "outputId": "4e096a93-ad52-4274-d0f5-eb5fd6e15b7b"
   },
   "outputs": [],
   "source": [
    "decisionTreeModel = tree.DecisionTreeClassifier()\n",
    "X_train, X_test, y_train, y_test = split_data(water_quality_data_mm, columns)\n",
    "decisionTreeModel.fit(X_train, y_train)\n",
    "decisionTree_y_pred = decisionTreeModel.predict(X_test)\n",
    "accuracyDecisionTree = metrics.accuracy_score(y_test, decisionTree_y_pred)*100\n",
    "print_metrics(\"Decision Tree\", \"MinMax normalization\", y_test, decisionTree_y_pred)"
   ]
  },
  {
   "cell_type": "markdown",
   "metadata": {
    "id": "uO-S9JrjIvQT",
    "tags": []
   },
   "source": [
    "### Decision tree with Z-score"
   ]
  },
  {
   "cell_type": "code",
   "execution_count": null,
   "metadata": {
    "colab": {
     "base_uri": "https://localhost:8080/",
     "height": 1000
    },
    "id": "k5USOZsnHU1J",
    "outputId": "66b310da-1e08-4940-e0ff-26d5b67d7aab"
   },
   "outputs": [],
   "source": [
    "decisionTreeModel_Z_Score = tree.DecisionTreeClassifier()\n",
    "X_train, X_test, y_train, y_test = split_data(water_quality_data_z, columns)\n",
    "decisionTreeModel_Z_Score.fit(X_train, y_train)\n",
    "decisionTree_Z_Score_y_pred = decisionTreeModel_Z_Score.predict(X_test)\n",
    "accuracyDecisionTree_Z_Score = metrics.accuracy_score(y_test, decisionTree_Z_Score_y_pred)*100\n",
    "print_metrics(\"Decision Tree\", \"Z-Score normalization\", y_test, decisionTree_Z_Score_y_pred)"
   ]
  },
  {
   "cell_type": "markdown",
   "metadata": {
    "jp-MarkdownHeadingCollapsed": true,
    "tags": []
   },
   "source": [
    "## Bagging Along with Random Forest"
   ]
  },
  {
   "cell_type": "markdown",
   "metadata": {
    "id": "kGRTJoBUJZ5k",
    "jp-MarkdownHeadingCollapsed": true,
    "tags": []
   },
   "source": [
    "### Bagging Along with Random Forest Classifier using MinMax Norm"
   ]
  },
  {
   "cell_type": "code",
   "execution_count": null,
   "metadata": {
    "colab": {
     "base_uri": "https://localhost:8080/",
     "height": 1000
    },
    "id": "DnJnwTXJ_th5",
    "outputId": "44b42aab-9a30-4ac8-cdc9-a6cb999a2584"
   },
   "outputs": [],
   "source": [
    "randomForestClassifier = RandomForestClassifier(max_depth=5, random_state=42)\n",
    "baggingClassifier = BaggingClassifier(base_estimator = randomForestClassifier, n_estimators = 10, random_state = 42)\n",
    "X_train, X_test, y_train, y_test = split_data(water_quality_data_mm, columns)\n",
    "baggingClassifier = baggingClassifier.fit(X_train, y_train)\n",
    "Bagging_y_pred = baggingClassifier.predict(X_test)\n",
    "accuracyBagging_MinMax = metrics.accuracy_score(y_test, Bagging_y_pred)*100\n",
    "print_metrics(\"Random Forest\", \"MinMax normalization\", y_test, Bagging_y_pred)"
   ]
  },
  {
   "cell_type": "markdown",
   "metadata": {
    "id": "gMe_VUvPLtSy",
    "tags": []
   },
   "source": [
    "### Bagging along with Random Forest Classifier using Z Score"
   ]
  },
  {
   "cell_type": "code",
   "execution_count": null,
   "metadata": {
    "colab": {
     "base_uri": "https://localhost:8080/",
     "height": 1000
    },
    "id": "cG07xCiEEvJx",
    "outputId": "9eae80ff-4ddf-436d-ba2e-134b431873bf"
   },
   "outputs": [],
   "source": [
    "X_train, X_test, y_train, y_test = split_data(water_quality_data_z, columns)\n",
    "baggingClassifier_Z = baggingClassifier.fit(X_train, y_train)\n",
    "Bagging_y_pred_Z = baggingClassifier.predict(X_test)\n",
    "accuracyBagging_Z = metrics.accuracy_score(y_test, Bagging_y_pred_Z)*100\n",
    "print_metrics(\"Random Forest\", \"Z-Score normalization\", y_test, Bagging_y_pred_Z)"
   ]
  },
  {
   "cell_type": "markdown",
   "metadata": {
    "id": "bs1lNgSgMLm0",
    "jp-MarkdownHeadingCollapsed": true,
    "tags": []
   },
   "source": [
    "## Logistic Regression"
   ]
  },
  {
   "cell_type": "markdown",
   "metadata": {
    "id": "mUYsLWqC8Oes",
    "jp-MarkdownHeadingCollapsed": true,
    "tags": []
   },
   "source": [
    "### Logistic Regression with Minmax norm"
   ]
  },
  {
   "cell_type": "code",
   "execution_count": null,
   "metadata": {
    "colab": {
     "base_uri": "https://localhost:8080/",
     "height": 1000
    },
    "id": "mI9RWXS78Oet",
    "outputId": "05bb7ddd-7251-44a0-b2bb-540dbcd467d4"
   },
   "outputs": [],
   "source": [
    "X_train, X_test, y_train, y_test = split_data(water_quality_data_mm, columns)\n",
    "logRegModel = LogisticRegression()\n",
    "logRegModel.fit(X_train, y_train)\n",
    "accuracy = metrics.accuracy_score(y_test, y_pred)*100\n",
    "print_metrics(\"Logistic Regression\", \"MinMax normalization\", y_test, y_pred)"
   ]
  },
  {
   "cell_type": "markdown",
   "metadata": {
    "id": "x0sIn8rp8Oet",
    "jp-MarkdownHeadingCollapsed": true,
    "tags": []
   },
   "source": [
    "### Logistic Regression with z-score"
   ]
  },
  {
   "cell_type": "code",
   "execution_count": null,
   "metadata": {
    "colab": {
     "base_uri": "https://localhost:8080/",
     "height": 1000
    },
    "id": "f3Fpddfz8Oet",
    "outputId": "d0c1134e-dacb-4bf6-ac51-ab4ef278ee0b"
   },
   "outputs": [],
   "source": [
    "X_train, X_test, y_train, y_test = split_data(water_quality_data_z, columns)\n",
    "logRegModel = LogisticRegression()\n",
    "logRegModel.fit(X_train, y_train)\n",
    "accuracy = metrics.accuracy_score(y_test, y_pred)*100\n",
    "print_metrics(\"Logistic Regression\", \"Z-Score normalization\", y_test, y_pred)"
   ]
  },
  {
   "cell_type": "markdown",
   "metadata": {
    "id": "y8vKezyx8Oeu",
    "jp-MarkdownHeadingCollapsed": true,
    "tags": []
   },
   "source": [
    "### Grid Search CV for Logistic Regression"
   ]
  },
  {
   "cell_type": "code",
   "execution_count": null,
   "metadata": {
    "id": "JkWWpRqk8Oeu"
   },
   "outputs": [],
   "source": [
    "# Define the hyperparameters to search\n",
    "hyperparameters = {\n",
    "    'tol': [0.01, 0.001, 0.1],\n",
    "    'penalty': ['l1', 'l2', 'none'],\n",
    "    'max_iter' : [100, 1000,2500, 5000]\n",
    "}"
   ]
  },
  {
   "cell_type": "code",
   "execution_count": null,
   "metadata": {
    "colab": {
     "base_uri": "https://localhost:8080/"
    },
    "id": "JbFlbxXd8Oeu",
    "outputId": "2c6f42a0-970e-430d-99d4-fb636b676240"
   },
   "outputs": [],
   "source": [
    "grid_search = GridSearchCV(logRegModel, hyperparameters, cv=5, verbose=True, n_jobs=-1)\n",
    "a = grid_search.fit(X_train, y_train)"
   ]
  },
  {
   "cell_type": "code",
   "execution_count": null,
   "metadata": {
    "colab": {
     "base_uri": "https://localhost:8080/",
     "height": 74
    },
    "id": "3WpruMos8Oeu",
    "outputId": "6e9917e2-eb41-4bc1-b78b-3b664d6a8d83"
   },
   "outputs": [],
   "source": [
    "best_logreg = grid_search.best_estimator_\n",
    "best_logreg"
   ]
  },
  {
   "cell_type": "code",
   "execution_count": null,
   "metadata": {
    "id": "me6nL6Uf8Oeu",
    "outputId": "96b215e8-f23f-48da-fd11-4ed0c05e52f5"
   },
   "outputs": [],
   "source": [
    "y_pred = best_logreg.predict(X_test)\n",
    "accuracy = accuracy_score(y_test, y_pred)\n",
    "print_metrics(\"Logistic Regression\", \"with GridSearch CV\", y_test, y_pred)"
   ]
  },
  {
   "cell_type": "markdown",
   "metadata": {
    "id": "Bs1c0zgo8Oev",
    "jp-MarkdownHeadingCollapsed": true,
    "tags": []
   },
   "source": [
    "### Weighted Logistic Regression"
   ]
  },
  {
   "cell_type": "code",
   "execution_count": null,
   "metadata": {
    "colab": {
     "base_uri": "https://localhost:8080/"
    },
    "id": "E0vcQcG18Oev",
    "outputId": "77c4e6ab-53d7-4a5d-8ffb-b29d21fa8886"
   },
   "outputs": [],
   "source": [
    "print(\"Ratio of Discrete labels\")\n",
    "water_quality_data[\"is_safe\"].value_counts()/water_quality_data[\"is_safe\"].shape[0]"
   ]
  },
  {
   "cell_type": "code",
   "execution_count": null,
   "metadata": {
    "colab": {
     "base_uri": "https://localhost:8080/",
     "height": 1000
    },
    "id": "PSvBF7pN8Oev",
    "outputId": "5dbf0cb9-c848-48cb-ab5a-db7a2c53620d"
   },
   "outputs": [],
   "source": [
    "X_train, X_test, y_train, y_test = split_data(water_quality_data_z, columns)\n",
    "weights = {0: 14, 1: 86}\n",
    "logmodel = LogisticRegression(class_weight=weights)\n",
    "logmodel.fit(X_train, y_train)\n",
    "predictions = logmodel.predict(X_test)\n",
    "accuracy = metrics.accuracy_score(y_test, predictions)*100\n",
    "print_metrics(\"Weighted Logistic Regression\", \"Z-Score normalization\", y_test, predictions)"
   ]
  },
  {
   "cell_type": "markdown",
   "metadata": {
    "id": "TDY299MJ8Oev"
   },
   "source": [
    "* As you can see after using the weighted logistic regression the accuracy is brought down to 86% from 90%.\n",
    "* However, the model is trained better for both True and False Labels"
   ]
  },
  {
   "cell_type": "markdown",
   "metadata": {
    "id": "n3jkEnq18Oev",
    "jp-MarkdownHeadingCollapsed": true,
    "tags": []
   },
   "source": [
    "## Gradient Boosting"
   ]
  },
  {
   "cell_type": "markdown",
   "metadata": {
    "id": "yqbuNi3e8Oew",
    "jp-MarkdownHeadingCollapsed": true,
    "tags": []
   },
   "source": [
    "### Gradient Boosting with Min Max Normalized Data"
   ]
  },
  {
   "cell_type": "code",
   "execution_count": null,
   "metadata": {
    "colab": {
     "base_uri": "https://localhost:8080/",
     "height": 74
    },
    "id": "yjx7jWvU8Oew",
    "outputId": "bf763adf-657f-428b-bd02-047519fde6c9"
   },
   "outputs": [],
   "source": [
    "X_train, X_test, y_train, y_test = split_data(water_quality_data_mm, columns)\n",
    "model1 = GradientBoostingClassifier(loss='deviance', learning_rate=0.1, n_estimators=100, max_depth=3, random_state=42, \n",
    "                                        min_samples_split=2, min_samples_leaf=1, subsample=1.0, max_features=None, \n",
    "                                        validation_fraction=0.1, n_iter_no_change=None, tol=0.0001)\n",
    "model1.fit(X_train, y_train)"
   ]
  },
  {
   "cell_type": "code",
   "execution_count": null,
   "metadata": {
    "colab": {
     "base_uri": "https://localhost:8080/",
     "height": 1000
    },
    "id": "mY1b65CM8Oew",
    "outputId": "01a8bfc2-2d1b-4d08-b495-f4522fa443a3"
   },
   "outputs": [],
   "source": [
    "y_pred = model1.predict(X_test)\n",
    "accuracy = accuracy_score(y_test, y_pred)\n",
    "print_metrics(\"Gradient Boosting\", \"MinMax normalization\", y_test, y_pred)"
   ]
  },
  {
   "cell_type": "markdown",
   "metadata": {
    "id": "h5DmmKE58Oew",
    "jp-MarkdownHeadingCollapsed": true,
    "tags": []
   },
   "source": [
    "### Gradient Boosting with Min Max Z-Score Normalized data"
   ]
  },
  {
   "cell_type": "code",
   "execution_count": null,
   "metadata": {
    "colab": {
     "base_uri": "https://localhost:8080/",
     "height": 74
    },
    "id": "00mhkPJw8Oew",
    "outputId": "bae30022-2eeb-4dc9-fd17-36043001d416"
   },
   "outputs": [],
   "source": [
    "X_train, X_test, y_train, y_test = split_data(water_quality_data_z, columns)\n",
    "model1 = GradientBoostingClassifier(loss='deviance', learning_rate=0.1, n_estimators=100, max_depth=3, random_state=42, \n",
    "                                        min_samples_split=2, min_samples_leaf=1, subsample=1.0, max_features=None, \n",
    "                                        validation_fraction=0.1, n_iter_no_change=None, tol=0.0001)\n",
    "model1.fit(X_train, y_train)"
   ]
  },
  {
   "cell_type": "code",
   "execution_count": null,
   "metadata": {
    "colab": {
     "base_uri": "https://localhost:8080/",
     "height": 1000
    },
    "id": "bGrFgJ0U8Oew",
    "outputId": "ababb11e-1c87-44c7-d094-95f136851dfa"
   },
   "outputs": [],
   "source": [
    "y_pred = model1.predict(X_test)\n",
    "accuracy = accuracy_score(y_test, y_pred)\n",
    "print_metrics(\"Gradient Boosting\", \"Z-Score normalization\", y_test, y_pred)"
   ]
  },
  {
   "cell_type": "markdown",
   "metadata": {
    "id": "9Vrz_GNC8Oew",
    "jp-MarkdownHeadingCollapsed": true,
    "tags": []
   },
   "source": [
    "### Hyperparameter tuning"
   ]
  },
  {
   "cell_type": "code",
   "execution_count": null,
   "metadata": {
    "id": "GUy_YR3N8Oex"
   },
   "outputs": [],
   "source": [
    "param_grid = {\n",
    "    'learning_rate': [0.01, 0.1],\n",
    "    'n_estimators': [50, 100, 200],\n",
    "    'max_depth': [3, 5, 7]\n",
    "}"
   ]
  },
  {
   "cell_type": "code",
   "execution_count": null,
   "metadata": {
    "colab": {
     "base_uri": "https://localhost:8080/",
     "height": 117
    },
    "id": "nztbdm8a8Oex",
    "outputId": "a95dad21-0ac8-413a-d887-63d96c0444d1"
   },
   "outputs": [],
   "source": [
    "grid_search = GridSearchCV(model1, param_grid=param_grid, cv=5)\n",
    "grid_search.fit(X_train, y_train)"
   ]
  },
  {
   "cell_type": "code",
   "execution_count": null,
   "metadata": {
    "colab": {
     "base_uri": "https://localhost:8080/",
     "height": 1000
    },
    "id": "LfkIAd6J8Oex",
    "outputId": "d4d4d235-529f-4ea5-e698-63610805fbc5"
   },
   "outputs": [],
   "source": [
    "print(\"Best hyperparameters:\", grid_search.best_params_)\n",
    "\n",
    "best_param_gb = grid_search.best_params_\n",
    "\n",
    "y_pred = grid_search.predict(X_test)\n",
    "accuracy = accuracy_score(y_test, y_pred)\n",
    "print_metrics(\"Gradient Boosting\", \"Grid Search CV\", y_test, y_pred)"
   ]
  },
  {
   "cell_type": "markdown",
   "metadata": {
    "id": "U4l1GhmYuOYw",
    "jp-MarkdownHeadingCollapsed": true,
    "tags": []
   },
   "source": [
    "## Tricks to tackle baised data\n",
    "\n",
    "1. SMOTE with SVM\n",
    "2. SMOTE with ANN\n",
    "3. SMOTE with Gradient Boosting\n"
   ]
  },
  {
   "cell_type": "markdown",
   "metadata": {
    "jp-MarkdownHeadingCollapsed": true,
    "tags": []
   },
   "source": [
    "### SVM"
   ]
  },
  {
   "cell_type": "code",
   "execution_count": null,
   "metadata": {
    "id": "6SJarpQ9_JHB"
   },
   "outputs": [],
   "source": [
    "\n",
    "smote = SMOTE(random_state=45)\n",
    "\n",
    "X_train, X_test, y_train, y_test = split_data(water_quality_data_z, columns)\n",
    "new_X_train, new_y_train = smote.fit_resample(X_train, y_train)"
   ]
  },
  {
   "cell_type": "code",
   "execution_count": null,
   "metadata": {
    "id": "-7ZovluIB4qZ"
   },
   "outputs": [],
   "source": [
    "svm = SVC(kernel='rbf')"
   ]
  },
  {
   "cell_type": "code",
   "execution_count": null,
   "metadata": {
    "colab": {
     "base_uri": "https://localhost:8080/",
     "height": 1000
    },
    "id": "LaxHES5k0NqK",
    "outputId": "aa46e3fe-9458-4f84-e68c-7caa670c8442"
   },
   "outputs": [],
   "source": [
    "svm.fit(new_X_train, new_y_train)\n",
    "y_pred_6 = svm.predict(X_test)\n",
    "\n",
    "print_metrics(\"SVM with SMOTE\", \"Z-Score normalization\", y_test, y_pred_6)"
   ]
  },
  {
   "cell_type": "markdown",
   "metadata": {
    "id": "xJqTQhTwKvMP",
    "jp-MarkdownHeadingCollapsed": true,
    "tags": []
   },
   "source": [
    "### Artificial Nueral Networks"
   ]
  },
  {
   "cell_type": "code",
   "execution_count": null,
   "metadata": {
    "id": "P257x5xI8Oex"
   },
   "outputs": [],
   "source": [
    "clf = MLPClassifier(random_state=42, max_iter=950, hidden_layer_sizes=(100), learning_rate='adaptive', learning_rate_init=0.0001)\n",
    "\n",
    "# On smote data\n",
    "\n",
    "X_train, X_test, y_train, y_test = split_data(water_quality_data_z, columns)\n",
    "new_X_train, new_y_train = smote.fit_resample(X_train, y_train)"
   ]
  },
  {
   "cell_type": "code",
   "execution_count": null,
   "metadata": {
    "colab": {
     "base_uri": "https://localhost:8080/",
     "height": 92
    },
    "id": "8L1MTMbzLrwx",
    "outputId": "085002e8-d791-4e71-f543-dde8586be5e1"
   },
   "outputs": [],
   "source": [
    "clf.fit(new_X_train, new_y_train)"
   ]
  },
  {
   "cell_type": "code",
   "execution_count": null,
   "metadata": {
    "colab": {
     "base_uri": "https://localhost:8080/",
     "height": 1000
    },
    "id": "wbarPC6NLtrB",
    "outputId": "b1866b38-b8e8-4cb4-aaed-374be91283f8"
   },
   "outputs": [],
   "source": [
    "y_pred_clf = clf.predict(X_test)\n",
    "accuracy = accuracy_score(y_test, y_pred)\n",
    "print_metrics(\"ANN with SMOTE \", \"Z-Score normalization\", y_test, y_pred_clf)"
   ]
  },
  {
   "cell_type": "markdown",
   "metadata": {
    "id": "FBdgU3S9M7PD",
    "jp-MarkdownHeadingCollapsed": true,
    "tags": []
   },
   "source": [
    "### Gradient Boosting\n"
   ]
  },
  {
   "cell_type": "code",
   "execution_count": null,
   "metadata": {
    "id": "PIPNxbWmMM_d"
   },
   "outputs": [],
   "source": [
    "model_gb = GradientBoostingClassifier(loss='deviance', learning_rate=best_param_gb['learning_rate'], n_estimators=best_param_gb['n_estimators'], max_depth=best_param_gb['max_depth'], random_state=42, \n",
    "                                        min_samples_split=2, min_samples_leaf=1, subsample=1.0, max_features=None, \n",
    "                                        validation_fraction=0.1, n_iter_no_change=None, tol=0.0001)\n",
    "\n",
    "# On smote data\n",
    "X_train, X_test, y_train, y_test = split_data(water_quality_data_z, columns)\n",
    "new_X_train, new_y_train = smote.fit_resample(X_train, y_train)"
   ]
  },
  {
   "cell_type": "code",
   "execution_count": null,
   "metadata": {
    "colab": {
     "base_uri": "https://localhost:8080/",
     "height": 92
    },
    "id": "gocJ9racN4wU",
    "outputId": "1c6ba998-76b4-4f41-fd91-f7897ea7827f"
   },
   "outputs": [],
   "source": [
    "model_gb.fit(new_X_train, new_y_train)\n"
   ]
  },
  {
   "cell_type": "code",
   "execution_count": null,
   "metadata": {
    "colab": {
     "base_uri": "https://localhost:8080/",
     "height": 1000
    },
    "id": "jGhMEIbQOF4x",
    "outputId": "ec3f5410-aba8-487a-9cd9-bddeaed8213d"
   },
   "outputs": [],
   "source": [
    "y_pred_gb = model_gb.predict(X_test)\n",
    "accuracy = accuracy_score(y_test, y_pred_gb)\n",
    "print_metrics(\"ANN with SMOTE \", \"Z-Score normalization\", y_test, y_pred_gb)"
   ]
  },
  {
   "cell_type": "code",
   "execution_count": null,
   "metadata": {
    "id": "QMLU-a4uONvT"
   },
   "outputs": [],
   "source": []
  }
 ],
 "metadata": {
  "colab": {
   "provenance": []
  },
  "kernelspec": {
   "display_name": "Python 3 (ipykernel)",
   "language": "python",
   "name": "python3"
  },
  "language_info": {
   "codemirror_mode": {
    "name": "ipython",
    "version": 3
   },
   "file_extension": ".py",
   "mimetype": "text/x-python",
   "name": "python",
   "nbconvert_exporter": "python",
   "pygments_lexer": "ipython3",
   "version": "3.10.1"
  }
 },
 "nbformat": 4,
 "nbformat_minor": 4
}
